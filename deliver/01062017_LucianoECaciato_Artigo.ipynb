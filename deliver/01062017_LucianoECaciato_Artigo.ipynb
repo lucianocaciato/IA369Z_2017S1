{
 "cells": [
  {
   "cell_type": "markdown",
   "metadata": {},
   "source": [
    "# <center> Cloud Data Center: Analisando a demanda de utilização </center>"
   ]
  },
  {
   "cell_type": "markdown",
   "metadata": {},
   "source": [
    " ## <center> Luciano Eduardo Caciato </center>\n",
    " ### <center> Faculdade de Engenharia Elétrica e de Computação - UNICAMP </center>\n",
    " ### <center> Reprodutibilidade em Pesquisa Computacional </center>"
   ]
  },
  {
   "cell_type": "markdown",
   "metadata": {},
   "source": [
    "## 1. Introdução"
   ]
  },
  {
   "cell_type": "markdown",
   "metadata": {},
   "source": [
    "Vivemos um momento de transformação, novamente, após a onda da virtualização de servidores e consolidação dos data centers na década passada, agora a nuvem computacional está contribuindo na competitividade das empresas e no avanço das pesquisas nas universidades.\n",
    "\n",
    "A computação em nuvem chegou em 2017, e está ajudando a transformar as empresas proporcionando o ganho de eficiência à medida que escalam seus recursos computacionais para atender seus clientes.\n",
    "\n",
    "No âmbito das universidades está contribuindo na disponibilidade de recursos computacionais para o processamento e armazenamento das pesquisas e também em novos ambientes que estão sendo criados e utilizados pelos docentes e alunos. O serviço mais utilizados é IaaS (Infrastruture as a Service).\n",
    "\n",
    "Esses ambientes são processados em várias data centers espalhados pelo mundo, que entregam os recursos computacionais conforme a demanda. Nosso objetivo neste artigo é analisar a utlização dos data centers de nuvem através de pesquisas mercadológicas e utilização da infraestrutura."
   ]
  },
  {
   "cell_type": "markdown",
   "metadata": {},
   "source": [
    "** Palavras Chave:** Cloud Computing, Virtualização e Data Center."
   ]
  },
  {
   "cell_type": "markdown",
   "metadata": {},
   "source": [
    "## 2. Data Center em Nuvem"
   ]
  },
  {
   "cell_type": "markdown",
   "metadata": {},
   "source": [
    "Numa simples pesquisa na Internet ou em qualquer revista de tecnologia o termo “seus dados estão na nuvem” cada vez mais fazem parte de nosso cotidiano porém ainda existem dúvidas sobre esses nomes tecnológicos, como data center, data center em nuvem e demanda de utilização, então vamos esclarecer de forma simples o que são esses três nomes:\n",
    "\n",
    "- Data Center: Local Físico construído em alvenaria ou material similar, com sistemas de refrigeração e eletricidade tolerantes a falhas e com sistemas rígidos de controle de acesso às pessoas. Neste local são hospedadas as redes de comunicação para a interconexão entre os dispositivos, servidores que fornecem o processamento e memória destinados para a computação e o storage para o armazenamento das informações. \n",
    "- Data Center em Nuvem: É a abstração do data center físico para lógico através da utilização do software especializado chamado virtualização onde permite a desacoplação do meio físico para o meio lógico, criando um grande pool de recursos contendo porções de processamento, memória, armazenamento e rede. E na nuvem que nada mais é que a Internet que é o meio de interconexão desses data centers e também a provedora dos serviços de nuvem.\n",
    "- Demanda de utilização: É a medição realizada em pontos da Internet com o objetivo de medir quanto está sendo utilizado os recursos computacionais e prever a necessidade de investimento em dinheiro e tecnologia para garantir o crescimento. \n",
    "\n",
    "Após o esclarecimento desses termos veremos a seguir as demandas."
   ]
  },
  {
   "cell_type": "markdown",
   "metadata": {},
   "source": [
    "Ao analisarmos as demandas e crescimento das nuvens computacionais é possível levantarmos centenas de informações. Neste artigo veremos duas demandas de data center:  Hyperscale Data Centers e Data Center IP Traffic. \n",
    "\n",
    "- Hyperscale Data Centers: É um data center projetado para um crescimento escalável de forma rápida, garantindo assim a entrega quase que imediata do recurso computacional. A arquitetura desde modelo é baseado em servidores pequenos com processador, memória, disco e rede, denominado como nó e o conjunto desses nós é um cluster. Nesta análise como está a demanda por esse tipo de data center, conforme figura 1."
   ]
  },
  {
   "cell_type": "code",
   "execution_count": 16,
   "metadata": {
    "collapsed": false
   },
   "outputs": [
    {
     "data": {
      "image/png": "[encoded data removed]",
      "text/plain": [
       "<matplotlib.figure.Figure at 0x7f80ab063278>"
      ]
     },
     "metadata": {},
     "output_type": "display_data"
    }
   ],
   "source": [
    " import matplotlib.pyplot as plt\n",
    "import csv\n",
    "\n",
    "a = []\n",
    "b = []\n",
    "\n",
    "with open('data/dc_hyperscale.csv','r') as csvfile:\n",
    "    plots = csv.reader(csvfile, delimiter=';')\n",
    "    for row in plots:\n",
    "        a.append(int(row[0]))\n",
    "        b.append(int(row[1]))\n",
    "        \n",
    "\n",
    "plt.bar(a,b, label='Hyperscale Data Centers')\n",
    "plt.xlabel('Ano \\n Figura 1')\n",
    "plt.ylabel('Número')\n",
    "\n",
    "plt.title('Crescimento Global de Data Center')\n",
    "plt.legend()\n",
    "plt.show()"
   ]
  },
  {
   "cell_type": "markdown",
   "metadata": {},
   "source": [
    "- Data Center IP Traffic: Quando dissemos a nuvem é composta por vários data centers interligados pela Internet, ou seja, quando olhamos o tráfego de rede percebemos que a maior parte começa e termina em um data center e esse é noss próximo objetivo, verificar qual é esse crescimento conforme a figura 2."
   ]
  },
  {
   "cell_type": "code",
   "execution_count": 14,
   "metadata": {
    "collapsed": false
   },
   "outputs": [
    {
     "data": {
      "image/png": "[encoded data removed]",
      "text/plain": [
       "<matplotlib.figure.Figure at 0x7f80d067c3c8>"
      ]
     },
     "metadata": {},
     "output_type": "display_data"
    }
   ],
   "source": [
    "import matplotlib.pyplot as plt\n",
    "import csv\n",
    "\n",
    "a = []\n",
    "b = []\n",
    "\n",
    "with open('data/dc_ip_traffic.csv','r') as csvfile:\n",
    "    plots = csv.reader(csvfile, delimiter=';')\n",
    "    for row in plots:\n",
    "        a.append(float(row[0]))\n",
    "        b.append(float(row[1]))\n",
    "        \n",
    "\n",
    "plt.bar(a,b, label='Demanda')\n",
    "plt.xlabel('Ano \\n Figura 2')\n",
    "plt.ylabel('Zettabytes por ano')\n",
    "\n",
    "plt.title('Crescimento Global de Data Center\\n Traffic IP')\n",
    "plt.legend()\n",
    "plt.show()"
   ]
  },
  {
   "cell_type": "markdown",
   "metadata": {
    "collapsed": true
   },
   "source": [
    "## Conclusão"
   ]
  },
  {
   "cell_type": "markdown",
   "metadata": {},
   "source": [
    "A computação em nuvem é uma realidade e está em plena utilização. Como verificamos as demandas estão cada vez maiores tornando necessário investimentos em infraestrutura de tecnologia da informação e comunicação e em novas frentes de pesquisa voltadas a esse mundo, garantindo assim a elasticidade dos data centers e a entrega dos serviços de nuvem."
   ]
  },
  {
   "cell_type": "code",
   "execution_count": null,
   "metadata": {
    "collapsed": true
   },
   "outputs": [],
   "source": []
  }
 ],
 "metadata": {
  "kernelspec": {
   "display_name": "Python 3",
   "language": "python",
   "name": "python3"
  },
  "language_info": {
   "codemirror_mode": {
    "name": "ipython",
    "version": 3
   },
   "file_extension": ".py",
   "mimetype": "text/x-python",
   "name": "python",
   "nbconvert_exporter": "python",
   "pygments_lexer": "ipython3",
   "version": "3.6.0"
  }
 },
 "nbformat": 4,
 "nbformat_minor": 2
}
