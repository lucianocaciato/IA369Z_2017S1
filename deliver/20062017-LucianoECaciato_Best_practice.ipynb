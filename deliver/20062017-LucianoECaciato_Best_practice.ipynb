{
 "cells": [
  {
   "cell_type": "markdown",
   "metadata": {},
   "source": [
    "## BEST PRACTICE"
   ]
  },
  {
   "cell_type": "markdown",
   "metadata": {},
   "source": [
    "Neste \"best practice\" escrevo minha experiência com o \"jupyter notebook\" que basicamente é uma aplicação web onde é possível visualizar dados, resultados de análises e códigos de computador. Sua linguagem de programação adotada inicialmente é o Python.\n",
    "Mais informações em: http://jupyter.org"
   ]
  },
  {
   "cell_type": "markdown",
   "metadata": {},
   "source": [
    "## No sistema operacional:\n",
    "Com relação as plataformas: o Sistema Operacional Microsoft Windows NÃO é indicado, pois não\n",
    "trata de forma correta as saídas dos programas python, além de instabilidades no servidor de aplicação do jupyter notebook. Já no Linux funciona corretamente."
   ]
  },
  {
   "cell_type": "markdown",
   "metadata": {},
   "source": [
    "## No ambiente do Jupyter Notebook: ##\n",
    " \n",
    "- No Microsoft Windows, ao executar a célula com o código ou texto, não ocorre a numeração como é comumente mostrada no canto esquerdo entre colchetes, ou seja, o correto seria [1], [2], etc, no erro ele apresenta da seguinte forma: [*]. Este problema ocorre porque o servidor de aplicação JN fica aguardando um resposta do código executado e no sistema operacional windows isso é perdido, deixando a aplicação parada.\n",
    "- Ao executar o servidor de aplicação do jupyter notebook normalmente o navegador web padrão abrirá automaticamente o ambiente, mas caso isso não ocorra, você deve copiar a linha que está na console para o navegado web. "
   ]
  },
  {
   "cell_type": "markdown",
   "metadata": {},
   "source": [
    "## Na máquina virtual\n",
    "\n",
    "- Cuidado na criação do disco como dinâmico, pois pode ocupar todo o espaço disponível do disco do hospedeiro. Caso tenha um IP (Internet Protocol) disponível habilite em redes como bridge direta, caso não tenha escolha NAT (Network Address Translator)."
   ]
  },
  {
   "cell_type": "markdown",
   "metadata": {
    "collapsed": true
   },
   "source": [
    "## Erros"
   ]
  },
  {
   "cell_type": "markdown",
   "metadata": {},
   "source": [
    "No Linux Centos, para a instalação do CSV deve ser instalados as pedências que são arquivos em pearl conforma e seguir:"
   ]
  },
  {
   "cell_type": "markdown",
   "metadata": {},
   "source": [
    "ModuleNotFoundError                       Traceback (most recent call last)\n",
    "<ipython-input-18-41a0b4a10c33> in <module>()\n",
    "      1 import matplotlib.pyplot as plt\n",
    "----> 2 import csv\n",
    "      3 import sys\n",
    "      4 plt.plot(( 1,2,3,4))\n",
    "      5 plt.ylabel(u'Alguns Números')\n",
    "\n",
    "ModuleNotFoundError: No module named 'csv'\n",
    "\n",
    "Para instalar CSV --> yum install csv (é pré requisito o pearl)"
   ]
  },
  {
   "cell_type": "markdown",
   "metadata": {
    "collapsed": true
   },
   "source": [
    "## Instalação do Jupyter Notebook no Linux CentOS 7"
   ]
  },
  {
   "cell_type": "markdown",
   "metadata": {
    "collapsed": true
   },
   "source": [
    "Na linha de comando:"
   ]
  },
  {
   "cell_type": "markdown",
   "metadata": {},
   "source": [
    "1) Instalação do repositório de pacotes:\n",
    "\n",
    "[root@jupyter-notebook ~]# yum install epel-release \n",
    "Installing:\n",
    " epel-release             noarch             7-9               extras           \n",
    "   14 k\n",
    "\n",
    "2) Atualização da base de dados RPM: \n",
    "    \n",
    "[root@jupyter-notebook ~]# updatedb  ### \n",
    "\n",
    "3) Atualizações dos pacotes de sistema operacional para a última versão estável\n",
    "\n",
    "[root@jupyter-notebook ~]# yum update\n",
    "\n",
    "4) Instalação do Python:\n",
    "    \n",
    "[root@jupyter-notebook yum.repos.d]# yum install -y python-pip python-devel python-virtualenv\n",
    "\n",
    "5) Instalação dos pacotes de desenvolvimento: \n",
    "    \n",
    "[root@jupyter-notebook yum.repos.d]# yum groupinstall 'Development Tools'\n",
    "\n",
    "6) Preparação para a instalação do jupyter notebook (PIP install):\n",
    "    \n",
    "[root@jupyter-notebook yum.repos.d]# virtualenv jupyter-virtualenv\n",
    "New python executable in jupyter-virtualenv/bin/python\n",
    "Installing Setuptools....................................................................................\n",
    ".........................................................................................................\n",
    ".................................done.\n",
    "Installing Pip...........................................................................................\n",
    ".........................................................................................................\n",
    ".........................................................................................................\n",
    "........................done.\n",
    "\n",
    "7) Ativação das variáveis de ambiente:\n",
    "    \n",
    "[root@jupyter-notebook yum.repos.d]# source jupyter-virtualenv/bin/activate\n",
    "\n",
    "8) Instalação do Jupyter Notebook:\n",
    "    \n",
    "[root@jupyter-notebook yum.repos.d]# pip install jupyter\n",
    "\n",
    "9) Execução do Jupyter Notebook:\n",
    "    \n",
    "[root@jupyter-notebook]#jupyter notebook\n"
   ]
  },
  {
   "cell_type": "markdown",
   "metadata": {},
   "source": [
    "Mais informações em:\n",
    "- Centos : https://www.centos.org/\n",
    "- Python: https://www.python.org/doc/"
   ]
  },
  {
   "cell_type": "code",
   "execution_count": null,
   "metadata": {
    "collapsed": true
   },
   "outputs": [],
   "source": []
  }
 ],
 "metadata": {
  "kernelspec": {
   "display_name": "Python 3",
   "language": "python",
   "name": "python3"
  },
  "language_info": {
   "codemirror_mode": {
    "name": "ipython",
    "version": 3
   },
   "file_extension": ".py",
   "mimetype": "text/x-python",
   "name": "python",
   "nbconvert_exporter": "python",
   "pygments_lexer": "ipython3",
   "version": "3.6.0"
  }
 },
 "nbformat": 4,
 "nbformat_minor": 2
}
