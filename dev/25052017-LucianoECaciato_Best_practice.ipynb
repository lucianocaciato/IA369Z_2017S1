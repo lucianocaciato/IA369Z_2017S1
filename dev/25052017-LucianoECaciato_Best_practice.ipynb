{
 "cells": [
  {
   "cell_type": "markdown",
   "metadata": {},
   "source": [
    "## BEST PRATICE"
   ]
  },
  {
   "cell_type": "markdown",
   "metadata": {},
   "source": [
    "\n",
    "Neste best practice escrevo minha experiência sobre o \"jupyter notebook\" que é uma das ferramentas utilizadas para a criação e edição de documentos de vários formatos dentre eles o reprodutível."
   ]
  },
  {
   "cell_type": "markdown",
   "metadata": {},
   "source": [
    "## No sistema operacional:\n",
    "- Com relação as plataformas: o Sistema Operacional Microsoft Windows NÃO é indicado, pois não\n",
    "trata de forma correta as saídas dos programas python. Já no Linux funciona corretamente.\n",
    " \n",
    "\n"
   ]
  },
  {
   "cell_type": "markdown",
   "metadata": {},
   "source": [
    "## No ambiente do Jupyter Notebook: ##\n",
    " \n",
    "- No Microsoft Windows, ao executar a célula com o código ou texto, não ocorre a numeração como é comumente mostrada no canto esquerdo entre colchetes, ou seja, o correto seria [1], [2], etc, no erro ele apresenta da seguinte forma: [*].\n",
    "- Pode ocorrer de não abrir, para resolver é só copiar a linha apresentada na tela de execução com o endereço do servidor de aplicação correspondente e colar no navegador web."
   ]
  },
  {
   "cell_type": "markdown",
   "metadata": {},
   "source": [
    "## Na máquina virtual\n",
    "\n",
    "- Cuidado na criação do disco como dinâmico, pois pode ocupar todo o espaço disponível do disco do hospedeiro. Caso tenha um IP (Internet Protocol) disponível habilite em redes como bridge direta, caso não tenha escolha NAT (Network Address Translator)."
   ]
  },
  {
   "cell_type": "markdown",
   "metadata": {
    "collapsed": true
   },
   "source": [
    "## Erros"
   ]
  },
  {
   "cell_type": "markdown",
   "metadata": {},
   "source": [
    "ModuleNotFoundError                       Traceback (most recent call last)\n",
    "<ipython-input-18-41a0b4a10c33> in <module>()\n",
    "      1 import matplotlib.pyplot as plt\n",
    "----> 2 import csv\n",
    "      3 import sys\n",
    "      4 plt.plot(( 1,2,3,4))\n",
    "      5 plt.ylabel(u'Alguns Números')\n",
    "\n",
    "ModuleNotFoundError: No module named 'csv'"
   ]
  },
  {
   "cell_type": "markdown",
   "metadata": {},
   "source": [
    "Para instalar CSV --> yum install csv (é pré requisito o pearl)"
   ]
  }
 ],
 "metadata": {
  "kernelspec": {
   "display_name": "Python 3",
   "language": "python",
   "name": "python3"
  },
  "language_info": {
   "codemirror_mode": {
    "name": "ipython",
    "version": 3
   },
   "file_extension": ".py",
   "mimetype": "text/x-python",
   "name": "python",
   "nbconvert_exporter": "python",
   "pygments_lexer": "ipython3",
   "version": "3.6.0"
  }
 },
 "nbformat": 4,
 "nbformat_minor": 2
}
