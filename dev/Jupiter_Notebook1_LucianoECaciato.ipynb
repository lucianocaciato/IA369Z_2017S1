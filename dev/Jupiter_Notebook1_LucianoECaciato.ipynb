{
 "cells": [
  {
   "cell_type": "markdown",
   "metadata": {},
   "source": [
    "<H1> Cloud Data Center: Analisando a demanda de utilização"
   ]
  },
  {
   "cell_type": "markdown",
   "metadata": {},
   "source": [
    "The Worldwide Cloud Computing Market \n",
    "\n",
    "\n",
    "\n",
    "The worldwide cloud computing market grew 28% to $110 billion in revenues in 2015. Synergy Research Group found that public Infrastructure as a Service(IaaS) and Platform as a Service (PaaS) services attained the highest growth rate of 51%, followed by private & hybrid cloud infrastructure services at 45%. The following graphic, figure 1, compares cloud growth by segment and market leaders "
   ]
  },
  {
   "cell_type": "code",
   "execution_count": null,
   "metadata": {
    "collapsed": true
   },
   "outputs": [],
   "source": [
    "%matplotlib inline\n",
    "import pandas as pd\n",
    "import matplotlib.pyplot as plt\n",
    "import seaborn as sns\n",
    "plt.style.use('ggplot')"
   ]
  },
  {
   "cell_type": "code",
   "execution_count": null,
   "metadata": {
    "collapsed": true
   },
   "outputs": [],
   "source": [
    "graph_cloud = pd.read_csv('D:\\dataset\\isoc_cicce_use.csv')\n",
    "graph_cloud.head(10)"
   ]
  },
  {
   "cell_type": "code",
   "execution_count": null,
   "metadata": {
    "collapsed": true
   },
   "outputs": [],
   "source": []
  },
  {
   "cell_type": "code",
   "execution_count": null,
   "metadata": {
    "collapsed": true
   },
   "outputs": [],
   "source": []
  }
 ],
 "metadata": {
  "kernelspec": {
   "display_name": "Python 3",
   "language": "python",
   "name": "python3"
  }
 },
 "nbformat": 4,
 "nbformat_minor": 2
}
